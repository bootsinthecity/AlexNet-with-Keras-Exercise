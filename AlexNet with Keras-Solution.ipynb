{
 "cells": [
  {
   "cell_type": "markdown",
   "metadata": {},
   "source": [
    "# AlexNet with Keras"
   ]
  },
  {
   "cell_type": "markdown",
   "metadata": {},
   "source": [
    "## Step 1: Import libraries and create an environment"
   ]
  },
  {
   "cell_type": "markdown",
   "metadata": {},
   "source": [
    "1. Open Terminal\n",
    "2. `conda create -n TF python=3.5 tensorflow pandas numpy jupyter ipython matplotlib`\n",
    "3. `. activate TF`\n",
    "4. `conda install -c derickl tflearn`\n",
    "5. `cd` to directory of choice\n",
    "6. `jupyter notebook`"
   ]
  },
  {
   "cell_type": "code",
   "execution_count": 7,
   "metadata": {},
   "outputs": [],
   "source": [
    "import tensorflow as tf\n",
    "from tensorflow import keras\n",
    "import numpy as np\n",
    "np.random.seed(1000)"
   ]
  },
  {
   "cell_type": "markdown",
   "metadata": {},
   "source": [
    "## Step 2: Import data"
   ]
  },
  {
   "cell_type": "code",
   "execution_count": 8,
   "metadata": {},
   "outputs": [],
   "source": [
    "import tflearn.datasets.oxflower17 as oxflower17\n",
    "x, y = oxflower17.load_data(one_hot=True)"
   ]
  },
  {
   "cell_type": "markdown",
   "metadata": {},
   "source": [
    "## Step 3: Create a sequential model, Compile, and Train"
   ]
  },
  {
   "cell_type": "markdown",
   "metadata": {},
   "source": [
    "**Add 5 Convolutional layers:** \n",
    "Batch normalize all convolutional layers\n",
    "\n",
    "**Layer 1:**\n",
    "*Hint: x.shape should help you understand inputs for Convolutional layer*\n",
    "\n",
    "Convolutional layer with 96 filters, 11 by 11 kernel, strides of 4, valid padding, relu activation\n",
    "\n",
    "Max Pooling layer with 2 by 2 pool size, valid padding\n",
    "\n",
    "**Layer 2:**\n",
    "Convolutional layer with 256 filters, 11 by 11 kernel, strides of 1, valid padding, relu activation\n",
    "\n",
    "**Layer 3:**\n",
    "Convolutional layer with 384 filters, 3 by 3 kernel, strides of 1, valid padding, relu activation\n",
    "\n",
    "**Layer 4:**\n",
    "Convolutional layer with 384 filters, 3 by 3 kernel, stride of 1, valid padding, relu activation\n",
    "\n",
    "**Layer 5:**\n",
    "Convolutional layer with 256 filters, 3 by 3 kernel, stride of 1, valid padding, relu activation\n",
    "\n",
    "Max Pooling layer with 2 by 2 pool size, valid padding\n",
    "\n",
    "**Add 3 Fully Connected Layers:**\n",
    "Flatten data to pass to dense layers\n",
    "\n",
    "*Note: Add Dropout of 0.5 \n",
    "\n",
    "**Layer 1:**\n",
    "Dense layer 4096, relu activation \n",
    "*Note: 4096 is an AlexNet parameter*\n",
    "\n",
    "**Layer 2:**\n",
    "Dense Layer 4096, relu activation\n",
    "\n",
    "**Layer 3:**\n",
    "Dense Layer 1000, relu activation\n",
    "\n",
    "**Output Layer**\n",
    "Dense layer with 17 outputs to match the number of classes, softmax activation\n",
    "\n",
    "**Model Summary**\n",
    "Use model.summary to get output shapes and number of parameters\n",
    "\n",
    "**Compile**\n",
    "Compile the model with categorical cross entropy loss, adam optimizer, accuracy metrics\n",
    "\n",
    "**Train the model**\n",
    "Train the model with batch size of 64, 1 epoch to start (you can change this later), and verbose=1\n",
    "Hold back 20% of data for dev set and don't forget to shuffle\n",
    "\n",
    "*Hints:*\n",
    "\n",
    "*Hint 1: model.add(Conv2D(...))*\n",
    "\n",
    "*Hint 2: model.add(BatchNormalization())*\n",
    "\n",
    "*Hint 3: model.add(Dropout())*\n",
    "\n",
    "*Hint 4: model.compile()*\n",
    "\n",
    "*Hint 5: model.fit*\n",
    "\n",
    "*Hint 5: metrics = [\"accuracy\"]*\n",
    "\n"
   ]
  },
  {
   "cell_type": "code",
   "execution_count": 56,
   "metadata": {},
   "outputs": [
    {
     "data": {
      "text/plain": [
       "(1360, 224, 224, 3)"
      ]
     },
     "execution_count": 56,
     "metadata": {},
     "output_type": "execute_result"
    }
   ],
   "source": [
    "x.shape"
   ]
  },
  {
   "cell_type": "code",
   "execution_count": 57,
   "metadata": {},
   "outputs": [
    {
     "data": {
      "text/plain": [
       "(1360, 17)"
      ]
     },
     "execution_count": 57,
     "metadata": {},
     "output_type": "execute_result"
    }
   ],
   "source": [
    "y.shape"
   ]
  },
  {
   "cell_type": "code",
   "execution_count": 58,
   "metadata": {},
   "outputs": [],
   "source": [
    "model = keras.Sequential()"
   ]
  },
  {
   "cell_type": "markdown",
   "metadata": {},
   "source": [
    "### Convolutional Layers"
   ]
  },
  {
   "cell_type": "markdown",
   "metadata": {},
   "source": [
    "#### Layer 1 - Convolution and Max Pooling"
   ]
  },
  {
   "cell_type": "code",
   "execution_count": 59,
   "metadata": {},
   "outputs": [],
   "source": [
    "model.add(tf.keras.layers.Conv2D(\n",
    "    input_shape = (224,224,3),\n",
    "    data_format=\"channels_last\",\n",
    "    filters=96, \n",
    "    kernel_size=(11,11), \n",
    "    strides = (4,4), \n",
    "    padding=\"valid\", \n",
    "    activation=\"relu\"))\n",
    "model.add(tf.keras.layers.MaxPooling2D(\n",
    "    pool_size=(2,2), \n",
    "    padding=\"valid\"))\n",
    "model.add(tf.keras.layers.BatchNormalization())"
   ]
  },
  {
   "cell_type": "markdown",
   "metadata": {},
   "source": [
    "#### Layer 2 - Convolution "
   ]
  },
  {
   "cell_type": "code",
   "execution_count": 60,
   "metadata": {},
   "outputs": [],
   "source": [
    "#Layer 2 - Convolution \n",
    "model.add(tf.keras.layers.Conv2D(\n",
    "    filters=256, \n",
    "    kernel_size=(5,5), \n",
    "    strides = (1,1), \n",
    "    padding=\"valid\", \n",
    "    activation=\"relu\"))\n",
    "model.add(tf.keras.layers.MaxPooling2D(\n",
    "    pool_size=(2,2), \n",
    "    padding=\"valid\"))\n",
    "model.add(tf.keras.layers.BatchNormalization())"
   ]
  },
  {
   "cell_type": "markdown",
   "metadata": {},
   "source": [
    "#### Layer 3 - Convolution "
   ]
  },
  {
   "cell_type": "code",
   "execution_count": 61,
   "metadata": {},
   "outputs": [],
   "source": [
    "#Layer 3 - Convolution \n",
    "model.add(tf.keras.layers.Conv2D(\n",
    "    filters=384, \n",
    "    kernel_size=(3,3), \n",
    "    strides = (1,1),\n",
    "    padding=\"valid\", \n",
    "    activation=\"relu\"))\n",
    "model.add(tf.keras.layers.BatchNormalization())"
   ]
  },
  {
   "cell_type": "markdown",
   "metadata": {},
   "source": [
    "#### Layer 4 - Convolution "
   ]
  },
  {
   "cell_type": "code",
   "execution_count": 62,
   "metadata": {},
   "outputs": [],
   "source": [
    "#Layer 4 - Convolution \n",
    "model.add(tf.keras.layers.Conv2D(\n",
    "    filters=384, \n",
    "    kernel_size=(3,3), \n",
    "    strides = (1,1),\n",
    "    padding=\"valid\", \n",
    "    activation=\"relu\"))\n",
    "model.add(tf.keras.layers.BatchNormalization())"
   ]
  },
  {
   "cell_type": "markdown",
   "metadata": {},
   "source": [
    "#### Layer 5 - Convolution "
   ]
  },
  {
   "cell_type": "code",
   "execution_count": 63,
   "metadata": {},
   "outputs": [],
   "source": [
    "#Layer 5 - Convolution \n",
    "model.add(tf.keras.layers.Conv2D(\n",
    "    filters=256, \n",
    "    kernel_size=(3,3), \n",
    "    strides = (1,1),\n",
    "    padding=\"valid\", \n",
    "    activation=\"relu\"))\n",
    "model.add(tf.keras.layers.BatchNormalization())"
   ]
  },
  {
   "cell_type": "markdown",
   "metadata": {},
   "source": [
    "#### Flatten Output and Pass to Fully Connected Layers"
   ]
  },
  {
   "cell_type": "code",
   "execution_count": 64,
   "metadata": {},
   "outputs": [],
   "source": [
    "model.add(tf.keras.layers.Flatten())"
   ]
  },
  {
   "cell_type": "markdown",
   "metadata": {},
   "source": [
    "### Fully Connected Layers"
   ]
  },
  {
   "cell_type": "markdown",
   "metadata": {},
   "source": [
    "#### Layer 1 - Dense 4096"
   ]
  },
  {
   "cell_type": "code",
   "execution_count": 65,
   "metadata": {},
   "outputs": [],
   "source": [
    "model.add(tf.keras.layers.Dense(4096, input_shape=(224*224*3,)))"
   ]
  },
  {
   "cell_type": "code",
   "execution_count": 66,
   "metadata": {},
   "outputs": [],
   "source": [
    "model.add(tf.keras.layers.Activation(\"relu\"))\n",
    "model.add(tf.keras.layers.Dropout(0.5))"
   ]
  },
  {
   "cell_type": "markdown",
   "metadata": {},
   "source": [
    "#### Layer 2 - Dense 4096"
   ]
  },
  {
   "cell_type": "code",
   "execution_count": 67,
   "metadata": {},
   "outputs": [],
   "source": [
    "model.add(tf.keras.layers.Dense(4096))\n",
    "model.add(tf.keras.layers.Activation(\"relu\"))\n",
    "model.add(tf.keras.layers.Dropout(0.5))"
   ]
  },
  {
   "cell_type": "markdown",
   "metadata": {},
   "source": [
    "#### Layer 3 - Dense 1000"
   ]
  },
  {
   "cell_type": "code",
   "execution_count": 68,
   "metadata": {},
   "outputs": [],
   "source": [
    "model.add(tf.keras.layers.Dense(1000))\n",
    "model.add(tf.keras.layers.Activation(\"relu\"))\n",
    "model.add(tf.keras.layers.Dropout(0.5))"
   ]
  },
  {
   "cell_type": "markdown",
   "metadata": {},
   "source": [
    "### Output Layer for 17 class softmax"
   ]
  },
  {
   "cell_type": "code",
   "execution_count": 69,
   "metadata": {},
   "outputs": [],
   "source": [
    "model.add(tf.keras.layers.Dense(17))\n",
    "model.add(tf.keras.layers.Activation(\"softmax\"))"
   ]
  },
  {
   "cell_type": "markdown",
   "metadata": {},
   "source": [
    "#### Model Summary"
   ]
  },
  {
   "cell_type": "code",
   "execution_count": 70,
   "metadata": {},
   "outputs": [
    {
     "name": "stdout",
     "output_type": "stream",
     "text": [
      "_________________________________________________________________\n",
      "Layer (type)                 Output Shape              Param #   \n",
      "=================================================================\n",
      "conv2d_19 (Conv2D)           (None, 54, 54, 96)        34944     \n",
      "_________________________________________________________________\n",
      "max_pooling2d_8 (MaxPooling2 (None, 27, 27, 96)        0         \n",
      "_________________________________________________________________\n",
      "batch_normalization (BatchNo (None, 27, 27, 96)        384       \n",
      "_________________________________________________________________\n",
      "conv2d_20 (Conv2D)           (None, 23, 23, 256)       614656    \n",
      "_________________________________________________________________\n",
      "max_pooling2d_9 (MaxPooling2 (None, 11, 11, 256)       0         \n",
      "_________________________________________________________________\n",
      "batch_normalization_1 (Batch (None, 11, 11, 256)       1024      \n",
      "_________________________________________________________________\n",
      "conv2d_21 (Conv2D)           (None, 9, 9, 384)         885120    \n",
      "_________________________________________________________________\n",
      "batch_normalization_2 (Batch (None, 9, 9, 384)         1536      \n",
      "_________________________________________________________________\n",
      "conv2d_22 (Conv2D)           (None, 7, 7, 384)         1327488   \n",
      "_________________________________________________________________\n",
      "batch_normalization_3 (Batch (None, 7, 7, 384)         1536      \n",
      "_________________________________________________________________\n",
      "conv2d_23 (Conv2D)           (None, 5, 5, 256)         884992    \n",
      "_________________________________________________________________\n",
      "batch_normalization_4 (Batch (None, 5, 5, 256)         1024      \n",
      "_________________________________________________________________\n",
      "flatten_1 (Flatten)          (None, 6400)              0         \n",
      "_________________________________________________________________\n",
      "dense_5 (Dense)              (None, 4096)              26218496  \n",
      "_________________________________________________________________\n",
      "activation_4 (Activation)    (None, 4096)              0         \n",
      "_________________________________________________________________\n",
      "dropout_3 (Dropout)          (None, 4096)              0         \n",
      "_________________________________________________________________\n",
      "dense_6 (Dense)              (None, 4096)              16781312  \n",
      "_________________________________________________________________\n",
      "activation_5 (Activation)    (None, 4096)              0         \n",
      "_________________________________________________________________\n",
      "dropout_4 (Dropout)          (None, 4096)              0         \n",
      "_________________________________________________________________\n",
      "dense_7 (Dense)              (None, 1000)              4097000   \n",
      "_________________________________________________________________\n",
      "activation_6 (Activation)    (None, 1000)              0         \n",
      "_________________________________________________________________\n",
      "dropout_5 (Dropout)          (None, 1000)              0         \n",
      "_________________________________________________________________\n",
      "dense_8 (Dense)              (None, 17)                17017     \n",
      "_________________________________________________________________\n",
      "activation_7 (Activation)    (None, 17)                0         \n",
      "=================================================================\n",
      "Total params: 50,866,529\n",
      "Trainable params: 50,863,777\n",
      "Non-trainable params: 2,752\n",
      "_________________________________________________________________\n"
     ]
    }
   ],
   "source": [
    "model.summary()"
   ]
  },
  {
   "cell_type": "markdown",
   "metadata": {},
   "source": [
    "### Compile"
   ]
  },
  {
   "cell_type": "code",
   "execution_count": 75,
   "metadata": {},
   "outputs": [],
   "source": [
    "model.compile(loss=\"categorical_crossentropy\", optimizer=\"adam\", metrics=[\"accuracy\"])"
   ]
  },
  {
   "cell_type": "markdown",
   "metadata": {},
   "source": [
    "### Train"
   ]
  },
  {
   "cell_type": "code",
   "execution_count": 76,
   "metadata": {},
   "outputs": [
    {
     "name": "stdout",
     "output_type": "stream",
     "text": [
      "Train on 1088 samples, validate on 272 samples\n",
      "Epoch 1/10\n",
      "1088/1088 [==============================] - 96s 88ms/step - loss: 2.2469 - acc: 0.3732 - val_loss: 5.6383 - val_acc: 0.1691\n",
      "Epoch 2/10\n",
      "1088/1088 [==============================] - 77s 71ms/step - loss: 1.8847 - acc: 0.4338 - val_loss: 5.1938 - val_acc: 0.1985\n",
      "Epoch 3/10\n",
      "1088/1088 [==============================] - 76s 70ms/step - loss: 1.7275 - acc: 0.4265 - val_loss: 4.9954 - val_acc: 0.1875\n",
      "Epoch 4/10\n",
      "1088/1088 [==============================] - 75s 69ms/step - loss: 1.7279 - acc: 0.4733 - val_loss: 8.2416 - val_acc: 0.1544\n",
      "Epoch 5/10\n",
      "1088/1088 [==============================] - 81s 75ms/step - loss: 1.6656 - acc: 0.4798 - val_loss: 3.6261 - val_acc: 0.2426\n",
      "Epoch 6/10\n",
      "1088/1088 [==============================] - 77s 70ms/step - loss: 1.6497 - acc: 0.5083 - val_loss: 4.7614 - val_acc: 0.2096\n",
      "Epoch 7/10\n",
      "1088/1088 [==============================] - 78s 72ms/step - loss: 1.4216 - acc: 0.5221 - val_loss: 11.2805 - val_acc: 0.1471\n",
      "Epoch 8/10\n",
      "1088/1088 [==============================] - 78s 71ms/step - loss: 1.3278 - acc: 0.5846 - val_loss: 9.6017 - val_acc: 0.1728\n",
      "Epoch 9/10\n",
      "1088/1088 [==============================] - 75s 69ms/step - loss: 1.2130 - acc: 0.6296 - val_loss: 5.8434 - val_acc: 0.2500\n",
      "Epoch 10/10\n",
      "1088/1088 [==============================] - 73s 67ms/step - loss: 1.2553 - acc: 0.5965 - val_loss: 8.8362 - val_acc: 0.1949\n"
     ]
    }
   ],
   "source": [
    "hist = model.fit(x, y, batch_size=128, epochs=10, verbose=1, validation_split=0.2, shuffle=True)"
   ]
  },
  {
   "cell_type": "code",
   "execution_count": 78,
   "metadata": {},
   "outputs": [],
   "source": [
    "import matplotlib.pyplot as plt \n",
    "\n",
    "%matplotlib inline"
   ]
  },
  {
   "cell_type": "markdown",
   "metadata": {},
   "source": [
    "## Visualize Loss"
   ]
  },
  {
   "cell_type": "code",
   "execution_count": 79,
   "metadata": {},
   "outputs": [
    {
     "data": {
      "image/png": "[encoded data removed]",
      "text/plain": [
       "<Figure size 432x288 with 1 Axes>"
      ]
     },
     "metadata": {
      "needs_background": "light"
     },
     "output_type": "display_data"
    }
   ],
   "source": [
    "acc = hist.history['acc']\n",
    "val_acc = hist.history['val_acc']\n",
    "loss = hist.history['loss']\n",
    "val_loss = hist.history['val_loss']\n",
    "\n",
    "epochs = range(1, len(acc) + 1)\n",
    "\n",
    "# \"bo\" is for \"blue dot\"\n",
    "plt.plot(epochs, loss, 'bo', label='Training loss')\n",
    "# b is for \"solid blue line\"\n",
    "plt.plot(epochs, val_loss, 'b', label='Validation loss')\n",
    "plt.title('Training and validation loss')\n",
    "plt.xlabel('Epochs')\n",
    "plt.ylabel('Loss')\n",
    "plt.legend()\n",
    "\n",
    "plt.show()"
   ]
  },
  {
   "cell_type": "markdown",
   "metadata": {},
   "source": [
    "## Visualize Accuracy"
   ]
  },
  {
   "cell_type": "code",
   "execution_count": 81,
   "metadata": {},
   "outputs": [
    {
     "data": {
      "image/png": "[encoded data removed]",
      "text/plain": [
       "<Figure size 432x288 with 1 Axes>"
      ]
     },
     "metadata": {
      "needs_background": "light"
     },
     "output_type": "display_data"
    }
   ],
   "source": [
    "plt.clf()   # clear figure\n",
    "acc_values = hist.history['acc']\n",
    "val_acc_values = hist.history['val_acc']\n",
    "\n",
    "plt.plot(epochs, acc, 'bo', label='Training acc')\n",
    "plt.plot(epochs, val_acc, 'b', label='Validation acc')\n",
    "plt.title('Training and validation accuracy')\n",
    "plt.xlabel('Epochs')\n",
    "plt.ylabel('Accuracy') \n",
    "plt.legend()\n",
    "\n",
    "plt.show()"
   ]
  },
  {
   "cell_type": "code",
   "execution_count": 83,
   "metadata": {},
   "outputs": [],
   "source": [
    "test2=0"
   ]
  },
  {
   "cell_type": "code",
   "execution_count": null,
   "metadata": {},
   "outputs": [],
   "source": []
  }
 ],
 "metadata": {
  "kernelspec": {
   "display_name": "Python 2",
   "language": "python",
   "name": "python2"
  },
  "language_info": {
   "codemirror_mode": {
    "name": "ipython",
    "version": 2
   },
   "file_extension": ".py",
   "mimetype": "text/x-python",
   "name": "python",
   "nbconvert_exporter": "python",
   "pygments_lexer": "ipython2",
   "version": "2.7.15"
  }
 },
 "nbformat": 4,
 "nbformat_minor": 2
}
