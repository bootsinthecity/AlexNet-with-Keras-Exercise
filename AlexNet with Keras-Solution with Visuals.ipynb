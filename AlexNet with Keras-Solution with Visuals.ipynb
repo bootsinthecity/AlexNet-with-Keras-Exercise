{
 "cells": [
  {
   "cell_type": "markdown",
   "metadata": {},
   "source": [
    "# AlexNet with Keras"
   ]
  },
  {
   "cell_type": "markdown",
   "metadata": {},
   "source": [
    "## Step 1: Import libraries and create an environment"
   ]
  },
  {
   "cell_type": "markdown",
   "metadata": {},
   "source": [
    "1. Open Terminal\n",
    "2. `conda create -n TF python=3.5 tensorflow pandas numpy jupyter ipython`\n",
    "3. `. activate py35`\n",
    "4. `conda install -c derickl tflearn`\n",
    "5. `cd` to directory of choice\n",
    "6. `jupyter notebook`"
   ]
  },
  {
   "cell_type": "code",
   "execution_count": 1,
   "metadata": {},
   "outputs": [],
   "source": [
    "import tensorflow as tf\n",
    "from tensorflow import keras\n",
    "import numpy as np\n",
    "np.random.seed(1000)"
   ]
  },
  {
   "cell_type": "markdown",
   "metadata": {},
   "source": [
    "## Step 2: Import data"
   ]
  },
  {
   "cell_type": "code",
   "execution_count": 2,
   "metadata": {},
   "outputs": [
    {
     "name": "stdout",
     "output_type": "stream",
     "text": [
      "Downloading Oxford 17 category Flower Dataset, Please wait...\n"
     ]
    },
    {
     "name": "stderr",
     "output_type": "stream",
     "text": [
      "100.0% 60276736 / 60270631\n"
     ]
    },
    {
     "name": "stdout",
     "output_type": "stream",
     "text": [
      "('Succesfully downloaded', '17flowers.tgz', 60270631, 'bytes.')\n",
      "File Extracted\n",
      "Starting to parse images...\n",
      "Parsing Done!\n"
     ]
    }
   ],
   "source": [
    "import tflearn.datasets.oxflower17 as oxflower17\n",
    "x, y = oxflower17.load_data(one_hot=True)"
   ]
  },
  {
   "cell_type": "markdown",
   "metadata": {},
   "source": [
    "## Step 3: Create a sequential model, Compile, and Train"
   ]
  },
  {
   "cell_type": "markdown",
   "metadata": {},
   "source": [
    "**Add 5 Convolutional layers:** \n",
    "Batch normalize all convolutional layers\n",
    "\n",
    "**Layer 1:**\n",
    "*Hint: x.shape should help you understand inputs for Convolutional layer*\n",
    "\n",
    "Convolutional layer with 96 filters, 11 by 11 kernel, strides of 4, valid padding, relu activation\n",
    "\n",
    "Max Pooling layer with 2 by 2 pool size, valid padding\n",
    "\n",
    "**Layer 2:**\n",
    "Convolutional layer with 256 filters, 11 by 11 kernel, strides of 1, valid padding, relu activation\n",
    "\n",
    "**Layer 3:**\n",
    "Convolutional layer with 384 filters, 3 by 3 kernel, strides of 1, valid padding, relu activation\n",
    "\n",
    "**Layer 4:**\n",
    "Convolutional layer with 384 filters, 3 by 3 kernel, stride of 1, valid padding, relu activation\n",
    "\n",
    "**Layer 5:**\n",
    "Convolutional layer with 256 filters, 3 by 3 kernel, stride of 1, valid padding, relu activation\n",
    "\n",
    "Max Pooling layer with 2 by 2 pool size, valid padding\n",
    "\n",
    "**Add 3 Fully Connected Layers:**\n",
    "Flatten data to pass to dense layers\n",
    "\n",
    "*Note: Add Dropout of 0.5 \n",
    "\n",
    "**Layer 1:**\n",
    "Dense layer 4096, relu activation \n",
    "*Note: 4096 is an AlexNet parameter*\n",
    "\n",
    "**Layer 2:**\n",
    "Dense Layer 4096, relu activation\n",
    "\n",
    "**Layer 3:**\n",
    "Dense Layer 1000, relu activation\n",
    "\n",
    "**Output Layer**\n",
    "Dense layer with 17 outputs to match the number of classes, softmax activation\n",
    "\n",
    "**Model Summary**\n",
    "Use model.summary to get output shapes and number of parameters\n",
    "\n",
    "**Compile**\n",
    "Compile the model with categorical cross entropy loss, adam optimizer, accuracy metrics\n",
    "\n",
    "**Train the model**\n",
    "Train the model with batch size of 64, 1 epoch to start (you can change this later), and verbose=1\n",
    "Hold back 20% of data for dev set and don't forget to shuffle\n",
    "\n",
    "*Hints:*\n",
    "\n",
    "*Hint 1: model.add(Conv2D(...))*\n",
    "\n",
    "*Hint 2: model.add(BatchNormalization())*\n",
    "\n",
    "*Hint 3: model.add(Dropout())*\n",
    "\n",
    "*Hint 4: model.compile()*\n",
    "\n",
    "*Hint 5: model.fit*\n",
    "\n",
    "*Hint 5: metrics = [\"accuracy\"]*\n",
    "\n"
   ]
  },
  {
   "cell_type": "code",
   "execution_count": 3,
   "metadata": {},
   "outputs": [
    {
     "data": {
      "text/plain": [
       "(1360, 224, 224, 3)"
      ]
     },
     "execution_count": 3,
     "metadata": {},
     "output_type": "execute_result"
    }
   ],
   "source": [
    "x.shape"
   ]
  },
  {
   "cell_type": "code",
   "execution_count": 4,
   "metadata": {},
   "outputs": [
    {
     "data": {
      "text/plain": [
       "(1360, 17)"
      ]
     },
     "execution_count": 4,
     "metadata": {},
     "output_type": "execute_result"
    }
   ],
   "source": [
    "y.shape"
   ]
  },
  {
   "cell_type": "code",
   "execution_count": 5,
   "metadata": {},
   "outputs": [],
   "source": [
    "model = keras.Sequential()"
   ]
  },
  {
   "cell_type": "markdown",
   "metadata": {},
   "source": [
    "### Convolutional Layers"
   ]
  },
  {
   "cell_type": "markdown",
   "metadata": {},
   "source": [
    "#### Layer 1 - Convolution and Max Pooling"
   ]
  },
  {
   "cell_type": "code",
   "execution_count": 6,
   "metadata": {},
   "outputs": [],
   "source": [
    "model.add(tf.keras.layers.Conv2D(\n",
    "    input_shape = (224,224,3),\n",
    "    data_format=\"channels_last\",\n",
    "    filters=96, \n",
    "    kernel_size=(11,11), \n",
    "    strides = (4,4), \n",
    "    padding=\"valid\", \n",
    "    activation=\"relu\"))\n",
    "model.add(tf.keras.layers.MaxPooling2D(\n",
    "    pool_size=(2,2), \n",
    "    padding=\"valid\"))"
   ]
  },
  {
   "cell_type": "markdown",
   "metadata": {},
   "source": [
    "#### Layer 2 - Convolution "
   ]
  },
  {
   "cell_type": "code",
   "execution_count": 7,
   "metadata": {},
   "outputs": [],
   "source": [
    "#Layer 2 - Convolution \n",
    "model.add(tf.keras.layers.Conv2D(\n",
    "    filters=256, \n",
    "    kernel_size=(5,5), \n",
    "    #strides = (4,4), Unclear what the strides are in the paper.\n",
    "    padding=\"valid\", \n",
    "    activation=\"relu\"))\n",
    "model.add(tf.keras.layers.MaxPooling2D(\n",
    "    pool_size=(2,2), \n",
    "    padding=\"valid\"))"
   ]
  },
  {
   "cell_type": "markdown",
   "metadata": {},
   "source": [
    "#### Layer 3 - Convolution "
   ]
  },
  {
   "cell_type": "code",
   "execution_count": 8,
   "metadata": {},
   "outputs": [],
   "source": [
    "#Layer 3 - Convolution \n",
    "model.add(tf.keras.layers.Conv2D(\n",
    "    filters=384, \n",
    "    kernel_size=(3,3), \n",
    "    #strides = (4,4), Unclear what the strides are in the paper.\n",
    "    padding=\"valid\", \n",
    "    activation=\"relu\"))"
   ]
  },
  {
   "cell_type": "markdown",
   "metadata": {},
   "source": [
    "#### Layer 4 - Convolution "
   ]
  },
  {
   "cell_type": "code",
   "execution_count": 9,
   "metadata": {},
   "outputs": [],
   "source": [
    "#Layer 4 - Convolution \n",
    "model.add(tf.keras.layers.Conv2D(\n",
    "    filters=384, \n",
    "    kernel_size=(3,3), \n",
    "    #strides = (4,4), Unclear what the strides are in the paper.\n",
    "    padding=\"valid\", \n",
    "    activation=\"relu\"))"
   ]
  },
  {
   "cell_type": "markdown",
   "metadata": {},
   "source": [
    "#### Layer 5 - Convolution "
   ]
  },
  {
   "cell_type": "code",
   "execution_count": 10,
   "metadata": {},
   "outputs": [],
   "source": [
    "#Layer 5 - Convolution \n",
    "model.add(tf.keras.layers.Conv2D(\n",
    "    filters=256, \n",
    "    kernel_size=(3,3), \n",
    "    #strides = (4,4), Unclear what the strides are in the paper.\n",
    "    padding=\"valid\", \n",
    "    activation=\"relu\"))"
   ]
  },
  {
   "cell_type": "markdown",
   "metadata": {},
   "source": [
    "#### Flatten Output and Pass to Fully Connected Layers"
   ]
  },
  {
   "cell_type": "code",
   "execution_count": 11,
   "metadata": {},
   "outputs": [],
   "source": [
    "model.add(tf.keras.layers.Flatten())"
   ]
  },
  {
   "cell_type": "markdown",
   "metadata": {},
   "source": [
    "### Fully Connected Layers"
   ]
  },
  {
   "cell_type": "markdown",
   "metadata": {},
   "source": [
    "#### Layer 1 - Dense 4096"
   ]
  },
  {
   "cell_type": "code",
   "execution_count": 12,
   "metadata": {},
   "outputs": [],
   "source": [
    "model.add(tf.keras.layers.Dense(4096, input_shape=(224*224*3,)))"
   ]
  },
  {
   "cell_type": "code",
   "execution_count": 13,
   "metadata": {},
   "outputs": [],
   "source": [
    "model.add(tf.keras.layers.Activation(\"relu\"))\n",
    "model.add(tf.keras.layers.Dropout(0.5))"
   ]
  },
  {
   "cell_type": "markdown",
   "metadata": {},
   "source": [
    "#### Layer 2 - Dense 4096"
   ]
  },
  {
   "cell_type": "code",
   "execution_count": 14,
   "metadata": {},
   "outputs": [],
   "source": [
    "model.add(tf.keras.layers.Dense(4096))\n",
    "model.add(tf.keras.layers.Activation(\"relu\"))\n",
    "model.add(tf.keras.layers.Dropout(0.5))"
   ]
  },
  {
   "cell_type": "markdown",
   "metadata": {},
   "source": [
    "#### Layer 3 - Dense 1000"
   ]
  },
  {
   "cell_type": "code",
   "execution_count": 15,
   "metadata": {},
   "outputs": [],
   "source": [
    "model.add(tf.keras.layers.Dense(1000))\n",
    "model.add(tf.keras.layers.Activation(\"relu\"))\n",
    "model.add(tf.keras.layers.Dropout(0.5))"
   ]
  },
  {
   "cell_type": "markdown",
   "metadata": {},
   "source": [
    "### Output Layer for 17 class softmax"
   ]
  },
  {
   "cell_type": "code",
   "execution_count": 16,
   "metadata": {},
   "outputs": [],
   "source": [
    "model.add(tf.keras.layers.Dense(17))\n",
    "model.add(tf.keras.layers.Activation(\"softmax\"))"
   ]
  },
  {
   "cell_type": "markdown",
   "metadata": {},
   "source": [
    "#### Model Summary"
   ]
  },
  {
   "cell_type": "code",
   "execution_count": 17,
   "metadata": {},
   "outputs": [
    {
     "name": "stdout",
     "output_type": "stream",
     "text": [
      "_________________________________________________________________\n",
      "Layer (type)                 Output Shape              Param #   \n",
      "=================================================================\n",
      "conv2d (Conv2D)              (None, 54, 54, 96)        34944     \n",
      "_________________________________________________________________\n",
      "max_pooling2d (MaxPooling2D) (None, 27, 27, 96)        0         \n",
      "_________________________________________________________________\n",
      "conv2d_1 (Conv2D)            (None, 23, 23, 256)       614656    \n",
      "_________________________________________________________________\n",
      "max_pooling2d_1 (MaxPooling2 (None, 11, 11, 256)       0         \n",
      "_________________________________________________________________\n",
      "conv2d_2 (Conv2D)            (None, 9, 9, 384)         885120    \n",
      "_________________________________________________________________\n",
      "conv2d_3 (Conv2D)            (None, 7, 7, 384)         1327488   \n",
      "_________________________________________________________________\n",
      "conv2d_4 (Conv2D)            (None, 5, 5, 256)         884992    \n",
      "_________________________________________________________________\n",
      "flatten (Flatten)            (None, 6400)              0         \n",
      "_________________________________________________________________\n",
      "dense (Dense)                (None, 4096)              26218496  \n",
      "_________________________________________________________________\n",
      "activation (Activation)      (None, 4096)              0         \n",
      "_________________________________________________________________\n",
      "dropout (Dropout)            (None, 4096)              0         \n",
      "_________________________________________________________________\n",
      "dense_1 (Dense)              (None, 4096)              16781312  \n",
      "_________________________________________________________________\n",
      "activation_1 (Activation)    (None, 4096)              0         \n",
      "_________________________________________________________________\n",
      "dropout_1 (Dropout)          (None, 4096)              0         \n",
      "_________________________________________________________________\n",
      "dense_2 (Dense)              (None, 1000)              4097000   \n",
      "_________________________________________________________________\n",
      "activation_2 (Activation)    (None, 1000)              0         \n",
      "_________________________________________________________________\n",
      "dropout_2 (Dropout)          (None, 1000)              0         \n",
      "_________________________________________________________________\n",
      "dense_3 (Dense)              (None, 17)                17017     \n",
      "_________________________________________________________________\n",
      "activation_3 (Activation)    (None, 17)                0         \n",
      "=================================================================\n",
      "Total params: 50,861,025\n",
      "Trainable params: 50,861,025\n",
      "Non-trainable params: 0\n",
      "_________________________________________________________________\n"
     ]
    }
   ],
   "source": [
    "model.summary()"
   ]
  },
  {
   "cell_type": "markdown",
   "metadata": {},
   "source": [
    "### Compile"
   ]
  },
  {
   "cell_type": "code",
   "execution_count": 18,
   "metadata": {},
   "outputs": [],
   "source": [
    "model.compile(loss=\"categorical_crossentropy\", optimizer=\"adam\", metrics=[\"accuracy\"])"
   ]
  },
  {
   "cell_type": "markdown",
   "metadata": {},
   "source": [
    "### Train"
   ]
  },
  {
   "cell_type": "code",
   "execution_count": 20,
   "metadata": {},
   "outputs": [
    {
     "name": "stdout",
     "output_type": "stream",
     "text": [
      "Train on 1088 samples, validate on 272 samples\n",
      "Epoch 1/10\n",
      "1088/1088 [==============================] - 92s 84ms/step - loss: 2.8315 - acc: 0.0579 - val_loss: 2.7968 - val_acc: 0.0404\n",
      "Epoch 2/10\n",
      "1088/1088 [==============================] - 85s 78ms/step - loss: 2.8169 - acc: 0.0533 - val_loss: 2.8336 - val_acc: 0.0662\n",
      "Epoch 3/10\n",
      "1088/1088 [==============================] - 81s 74ms/step - loss: 2.8080 - acc: 0.0616 - val_loss: 2.7611 - val_acc: 0.0809\n",
      "Epoch 4/10\n",
      "1088/1088 [==============================] - 83s 76ms/step - loss: 2.7825 - acc: 0.0846 - val_loss: 2.8341 - val_acc: 0.0368\n",
      "Epoch 5/10\n",
      "1088/1088 [==============================] - 75s 69ms/step - loss: 2.8330 - acc: 0.0653 - val_loss: 2.8368 - val_acc: 0.0368\n",
      "Epoch 6/10\n",
      "1088/1088 [==============================] - 69s 64ms/step - loss: 2.8334 - acc: 0.0634 - val_loss: 2.8374 - val_acc: 0.0368\n",
      "Epoch 7/10\n",
      "1088/1088 [==============================] - 73s 67ms/step - loss: 2.8324 - acc: 0.0662 - val_loss: 2.8386 - val_acc: 0.0368\n",
      "Epoch 8/10\n",
      "1088/1088 [==============================] - 71s 65ms/step - loss: 2.8323 - acc: 0.0616 - val_loss: 2.8412 - val_acc: 0.0368\n",
      "Epoch 9/10\n",
      "1088/1088 [==============================] - 67s 62ms/step - loss: 2.8326 - acc: 0.0662 - val_loss: 2.8425 - val_acc: 0.0368\n",
      "Epoch 10/10\n",
      "1088/1088 [==============================] - 72s 66ms/step - loss: 2.8500 - acc: 0.0625 - val_loss: 2.8421 - val_acc: 0.0368\n"
     ]
    }
   ],
   "source": [
    "history1 = model.fit(x, y, batch_size=128, epochs=10, verbose=1, validation_split=0.2, shuffle=True)"
   ]
  },
  {
   "cell_type": "markdown",
   "metadata": {},
   "source": [
    "### Visualizing how our model did... \n",
    "\n",
    "`model.fit()` returns a `History` object that contains a dictionary with everything that happened during training:"
   ]
  },
  {
   "cell_type": "code",
   "execution_count": 21,
   "metadata": {},
   "outputs": [
    {
     "data": {
      "text/plain": [
       "['acc', 'loss', 'val_acc', 'val_loss']"
      ]
     },
     "execution_count": 21,
     "metadata": {},
     "output_type": "execute_result"
    }
   ],
   "source": [
    "history_dict = history1.history\n",
    "history_dict.keys()"
   ]
  },
  {
   "cell_type": "code",
   "execution_count": 24,
   "metadata": {},
   "outputs": [],
   "source": [
    "#will need to conda install matplotlib\n",
    "import matplotlib.pyplot as plt \n",
    "\n",
    "%matplotlib inline"
   ]
  },
  {
   "cell_type": "markdown",
   "metadata": {},
   "source": [
    "### Visualize Loss"
   ]
  },
  {
   "cell_type": "code",
   "execution_count": 25,
   "metadata": {},
   "outputs": [
    {
     "data": {
      "image/png": "[encoded data removed]",
      "text/plain": [
       "<Figure size 432x288 with 1 Axes>"
      ]
     },
     "metadata": {
      "needs_background": "light"
     },
     "output_type": "display_data"
    }
   ],
   "source": [
    "acc = history1.history['acc']\n",
    "val_acc = history1.history['val_acc']\n",
    "loss = history1.history['loss']\n",
    "val_loss = history1.history['val_loss']\n",
    "\n",
    "epochs = range(1, len(acc) + 1)\n",
    "\n",
    "# \"bo\" is for \"blue dot\"\n",
    "plt.plot(epochs, loss, 'bo', label='Training loss')\n",
    "# b is for \"solid blue line\"\n",
    "plt.plot(epochs, val_loss, 'b', label='Validation loss')\n",
    "plt.title('Training and validation loss')\n",
    "plt.xlabel('Epochs')\n",
    "plt.ylabel('Loss')\n",
    "plt.legend()\n",
    "\n",
    "plt.show()"
   ]
  },
  {
   "cell_type": "markdown",
   "metadata": {},
   "source": [
    "### Visualize Accuracy "
   ]
  },
  {
   "cell_type": "code",
   "execution_count": 26,
   "metadata": {},
   "outputs": [
    {
     "data": {
      "image/png": "[encoded data removed]",
      "text/plain": [
       "<Figure size 432x288 with 1 Axes>"
      ]
     },
     "metadata": {
      "needs_background": "light"
     },
     "output_type": "display_data"
    }
   ],
   "source": [
    "plt.clf()   # clear figure\n",
    "acc_values = history_dict['acc']\n",
    "val_acc_values = history_dict['val_acc']\n",
    "\n",
    "plt.plot(epochs, acc, 'bo', label='Training acc')\n",
    "plt.plot(epochs, val_acc, 'b', label='Validation acc')\n",
    "plt.title('Training and validation accuracy')\n",
    "plt.xlabel('Epochs')\n",
    "plt.ylabel('Accuracy') \n",
    "plt.legend()\n",
    "\n",
    "plt.show()"
   ]
  },
  {
   "cell_type": "code",
   "execution_count": null,
   "metadata": {},
   "outputs": [],
   "source": []
  }
 ],
 "metadata": {
  "kernelspec": {
   "display_name": "Python 2",
   "language": "python",
   "name": "python2"
  },
  "language_info": {
   "codemirror_mode": {
    "name": "ipython",
    "version": 2
   },
   "file_extension": ".py",
   "mimetype": "text/x-python",
   "name": "python",
   "nbconvert_exporter": "python",
   "pygments_lexer": "ipython2",
   "version": "2.7.15"
  }
 },
 "nbformat": 4,
 "nbformat_minor": 2
}
